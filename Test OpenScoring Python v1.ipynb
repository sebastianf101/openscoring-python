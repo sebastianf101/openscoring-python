{
 "cells": [
  {
   "cell_type": "markdown",
   "metadata": {},
   "source": [
    "## Prueba de OpenScoring"
   ]
  },
  {
   "cell_type": "markdown",
   "metadata": {},
   "source": [
    "### Setup"
   ]
  },
  {
   "cell_type": "markdown",
   "metadata": {},
   "source": [
    "Antes hay que instalar y levantar el servicio que está implementado en Java.\n",
    "\n",
    "```\n",
    "version=2.1-SNAPSHOT\n",
    "cd openscoring-server/target\n",
    "java -jar openscoring-server-executable-${version}.jar --port 8181\n",
    "\n",
    "```\n",
    "\n",
    "La librería que usa el cliente se instala con:\n",
    "\n",
    "```\n",
    "pip install --upgrade git+https://github.com/sebastianf101/openscoring-python.git\n",
    "```"
   ]
  },
  {
   "cell_type": "code",
   "execution_count": 1,
   "metadata": {},
   "outputs": [],
   "source": [
    "from openscoring import Openscoring\n",
    "\n",
    "os = Openscoring(base_url = \"http://localhost:8181/openscoring\")"
   ]
  },
  {
   "cell_type": "code",
   "execution_count": 2,
   "metadata": {},
   "outputs": [
    {
     "data": {
      "text/plain": [
       "<openscoring.common.ModelResponse at 0x1cc566831c0>"
      ]
     },
     "execution_count": 2,
     "metadata": {},
     "output_type": "execute_result"
    }
   ],
   "source": [
    "os.deployFile(\"Iris\", \"openscoring/tests/resources/DecisionTreeIris.pmml\")\n",
    "\n"
   ]
  },
  {
   "cell_type": "code",
   "execution_count": 3,
   "metadata": {},
   "outputs": [
    {
     "name": "stdout",
     "output_type": "stream",
     "text": [
      "{'Species': 'setosa', 'probability(setosa)': 1.0, 'probability(versicolor)': 0.0, 'probability(virginica)': 0.0}\n"
     ]
    }
   ],
   "source": [
    "arguments = {\n",
    "\t\"Sepal.Length\" : 5.1,\n",
    "\t\"Sepal.Width\" : 3.5,\n",
    "\t\"Petal.Length\" : 1.4,\n",
    "\t\"Petal.Width\" : 0.2\n",
    "}\n",
    "\n",
    "results = os.evaluate(\"Iris\", arguments)\n",
    "print(results)"
   ]
  },
  {
   "cell_type": "code",
   "execution_count": 4,
   "metadata": {},
   "outputs": [
    {
     "name": "stdout",
     "output_type": "stream",
     "text": [
      "{'Species': 'setosa', 'probability(setosa)': 1.0, 'probability(versicolor)': 0.0, 'probability(virginica)': 0.0}\n"
     ]
    }
   ],
   "source": [
    "from openscoring import EvaluationRequest\n",
    "\n",
    "evaluationRequest = EvaluationRequest(\"record-001\", arguments)\n",
    "\n",
    "evaluationResponse = os.evaluate(\"Iris\", evaluationRequest)\n",
    "print(evaluationResponse.results)"
   ]
  },
  {
   "cell_type": "code",
   "execution_count": 7,
   "metadata": {},
   "outputs": [],
   "source": [
    "os.evaluateCsvFile(\"Iris\", \"openscoring/tests/resources/input.csv\", \"openscoring/tests/resources/output.csv\")"
   ]
  },
  {
   "cell_type": "code",
   "execution_count": 8,
   "metadata": {},
   "outputs": [
    {
     "name": "stdout",
     "output_type": "stream",
     "text": [
      "           Id     Species  probability(setosa)  probability(versicolor)  \\\n",
      "0  record-001      setosa                  1.0                 0.000000   \n",
      "1  record-002  versicolor                  0.0                 0.907407   \n",
      "2  record-003   virginica                  0.0                 0.021739   \n",
      "\n",
      "   probability(virginica)  \n",
      "0                0.000000  \n",
      "1                0.092593  \n",
      "2                0.978261  \n"
     ]
    }
   ],
   "source": [
    "import pandas as pd\n",
    "\n",
    "# Read the CSV file into a Pandas DataFrame\n",
    "df = pd.read_csv(\"openscoring/tests/resources/output.csv\")\n",
    "\n",
    "# Print the DataFrame\n",
    "print(df)\n"
   ]
  },
  {
   "cell_type": "code",
   "execution_count": null,
   "metadata": {},
   "outputs": [],
   "source": []
  }
 ],
 "metadata": {
  "kernelspec": {
   "display_name": "pmml",
   "language": "python",
   "name": "python3"
  },
  "language_info": {
   "codemirror_mode": {
    "name": "ipython",
    "version": 3
   },
   "file_extension": ".py",
   "mimetype": "text/x-python",
   "name": "python",
   "nbconvert_exporter": "python",
   "pygments_lexer": "ipython3",
   "version": "3.10.14"
  }
 },
 "nbformat": 4,
 "nbformat_minor": 2
}
